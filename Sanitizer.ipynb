{
  "nbformat": 4,
  "nbformat_minor": 0,
  "metadata": {
    "colab": {
      "name": "Sanitizer.ipynb",
      "provenance": [],
      "collapsed_sections": [],
      "include_colab_link": true
    },
    "kernelspec": {
      "display_name": "Python 3",
      "name": "python3"
    }
  },
  "cells": [
    {
      "cell_type": "markdown",
      "metadata": {
        "id": "view-in-github",
        "colab_type": "text"
      },
      "source": [
        "<a href=\"https://colab.research.google.com/github/Parisman1/CognitiveDecline-NLP/blob/main/Sanitizer.ipynb\" target=\"_parent\"><img src=\"https://colab.research.google.com/assets/colab-badge.svg\" alt=\"Open In Colab\"/></a>"
      ]
    },
    {
      "cell_type": "markdown",
      "metadata": {
        "id": "oz28KrnJ9Y9D"
      },
      "source": [
        "# Drive mounting, pip installs, and imports\r\n"
      ]
    },
    {
      "cell_type": "code",
      "metadata": {
        "id": "t61_p1sBmDV-",
        "colab": {
          "base_uri": "https://localhost:8080/"
        },
        "outputId": "bf2af63d-1aab-4b69-a16a-2f9396127c1a"
      },
      "source": [
        "from google.colab import drive\r\n",
        "drive.mount('/content/drive', force_remount=True)"
      ],
      "execution_count": 2,
      "outputs": [
        {
          "output_type": "stream",
          "text": [
            "Mounted at /content/drive\n"
          ],
          "name": "stdout"
        }
      ]
    },
    {
      "cell_type": "code",
      "metadata": {
        "id": "q0-GCKZumwqd"
      },
      "source": [
        "#/content/drive/MyDrive/CSCE 5215/Spring 2021/Shortened Enki Audio Files\r\n",
        "#/content/drive/MyDrive/CSCE 5215/Spring 2021/Shortened Enki Audio Files\r\n",
        "AudioPath = '/content/drive/MyDrive/CSCE 5215/Spring 2021/Shortened Enki Audio Files'\r\n",
        "BasePath = '/content/drive/MyDrive/CSCE 5215/Spring 2021'\r\n",
        "TestPath = '/content/drive/MyDrive/CSCE 5215/Spring 2021/AudioTestFolder'"
      ],
      "execution_count": 3,
      "outputs": []
    },
    {
      "cell_type": "code",
      "metadata": {
        "id": "fYPyz49Pn2Hp",
        "colab": {
          "base_uri": "https://localhost:8080/"
        },
        "outputId": "44b86bbc-5b91-4238-8f63-180990b0949d"
      },
      "source": [
        "!pip install pyAudioAnalysis\r\n",
        "!pip install eyed3\r\n",
        "!pip install pydub\r\n",
        "!pip install hmmlearn"
      ],
      "execution_count": 4,
      "outputs": [
        {
          "output_type": "stream",
          "text": [
            "Collecting pyAudioAnalysis\n",
            "\u001b[?25l  Downloading https://files.pythonhosted.org/packages/71/42/09adc0229b78dc514004ecf83508afa36a998502a36a4ebdacc14ae55fcf/pyAudioAnalysis-0.3.6.tar.gz (52.4MB)\n",
            "\u001b[K     |████████████████████████████████| 52.4MB 80kB/s \n",
            "\u001b[?25hBuilding wheels for collected packages: pyAudioAnalysis\n",
            "  Building wheel for pyAudioAnalysis (setup.py) ... \u001b[?25l\u001b[?25hdone\n",
            "  Created wheel for pyAudioAnalysis: filename=pyAudioAnalysis-0.3.6-cp37-none-any.whl size=52589856 sha256=6cad83830398d1d25b02c3335a47148171017abb2efc33183a687fee03fe0adc\n",
            "  Stored in directory: /root/.cache/pip/wheels/fd/74/c2/361da76b03ed9d45c1b606d8fd25ac53ab965f754061fc4805\n",
            "Successfully built pyAudioAnalysis\n",
            "Installing collected packages: pyAudioAnalysis\n",
            "Successfully installed pyAudioAnalysis-0.3.6\n",
            "Collecting eyed3\n",
            "\u001b[?25l  Downloading https://files.pythonhosted.org/packages/e9/5e/9445f42ca86bc4832bac33fe37b506fc4db60dd9b68621e55c96fc66d730/eyeD3-0.9.6-py3-none-any.whl (245kB)\n",
            "\u001b[K     |████████████████████████████████| 256kB 4.1MB/s \n",
            "\u001b[?25hCollecting deprecation<3.0.0,>=2.1.0\n",
            "  Downloading https://files.pythonhosted.org/packages/02/c3/253a89ee03fc9b9682f1541728eb66db7db22148cd94f89ab22528cd1e1b/deprecation-2.1.0-py2.py3-none-any.whl\n",
            "Collecting coverage[toml]<6.0.0,>=5.3.1\n",
            "\u001b[?25l  Downloading https://files.pythonhosted.org/packages/16/e0/fc9f7bd9b84e6b41d0aad1a113e36714aac0c0a9b307aca5f9af443bc50f/coverage-5.5-cp37-cp37m-manylinux2010_x86_64.whl (242kB)\n",
            "\u001b[K     |████████████████████████████████| 245kB 53.5MB/s \n",
            "\u001b[?25hCollecting filetype<2.0.0,>=1.0.7\n",
            "  Downloading https://files.pythonhosted.org/packages/b4/6b/7bc015da1a576ac037582ae0c5acb675371de9e017e860931e97a428ee31/filetype-1.0.7-py2.py3-none-any.whl\n",
            "Requirement already satisfied: packaging in /usr/local/lib/python3.7/dist-packages (from deprecation<3.0.0,>=2.1.0->eyed3) (20.9)\n",
            "Requirement already satisfied: toml; extra == \"toml\" in /usr/local/lib/python3.7/dist-packages (from coverage[toml]<6.0.0,>=5.3.1->eyed3) (0.10.2)\n",
            "Requirement already satisfied: pyparsing>=2.0.2 in /usr/local/lib/python3.7/dist-packages (from packaging->deprecation<3.0.0,>=2.1.0->eyed3) (2.4.7)\n",
            "\u001b[31mERROR: datascience 0.10.6 has requirement coverage==3.7.1, but you'll have coverage 5.5 which is incompatible.\u001b[0m\n",
            "\u001b[31mERROR: datascience 0.10.6 has requirement folium==0.2.1, but you'll have folium 0.8.3 which is incompatible.\u001b[0m\n",
            "\u001b[31mERROR: coveralls 0.5 has requirement coverage<3.999,>=3.6, but you'll have coverage 5.5 which is incompatible.\u001b[0m\n",
            "Installing collected packages: deprecation, coverage, filetype, eyed3\n",
            "  Found existing installation: coverage 3.7.1\n",
            "    Uninstalling coverage-3.7.1:\n",
            "      Successfully uninstalled coverage-3.7.1\n",
            "Successfully installed coverage-5.5 deprecation-2.1.0 eyed3-0.9.6 filetype-1.0.7\n",
            "Collecting pydub\n",
            "  Downloading https://files.pythonhosted.org/packages/a6/53/d78dc063216e62fc55f6b2eebb447f6a4b0a59f55c8406376f76bf959b08/pydub-0.25.1-py2.py3-none-any.whl\n",
            "Installing collected packages: pydub\n",
            "Successfully installed pydub-0.25.1\n",
            "Collecting hmmlearn\n",
            "\u001b[?25l  Downloading https://files.pythonhosted.org/packages/4b/98/a2829aeb942b7146034d497afb3fc738a78a4fbd4797a039c19a94bb31f7/hmmlearn-0.2.5-cp37-cp37m-manylinux1_x86_64.whl (369kB)\n",
            "\u001b[K     |████████████████████████████████| 378kB 3.6MB/s \n",
            "\u001b[?25hRequirement already satisfied: scipy>=0.19 in /usr/local/lib/python3.7/dist-packages (from hmmlearn) (1.4.1)\n",
            "Requirement already satisfied: numpy>=1.10 in /usr/local/lib/python3.7/dist-packages (from hmmlearn) (1.19.5)\n",
            "Requirement already satisfied: scikit-learn>=0.16 in /usr/local/lib/python3.7/dist-packages (from hmmlearn) (0.22.2.post1)\n",
            "Requirement already satisfied: joblib>=0.11 in /usr/local/lib/python3.7/dist-packages (from scikit-learn>=0.16->hmmlearn) (1.0.1)\n",
            "Installing collected packages: hmmlearn\n",
            "Successfully installed hmmlearn-0.2.5\n"
          ],
          "name": "stdout"
        }
      ]
    },
    {
      "cell_type": "code",
      "metadata": {
        "id": "oaB3zZZbrPRJ"
      },
      "source": [
        "import hmmlearn.hmm\r\n",
        "from pydub import AudioSegment\r\n",
        "import eyed3\r\n",
        "import pyAudioAnalysis as pAA\r\n",
        "from pyAudioAnalysis import audioBasicIO\r\n",
        "from pyAudioAnalysis import ShortTermFeatures\r\n",
        "from pyAudioAnalysis import audioSegmentation as aS\r\n",
        "import matplotlib.pyplot as plt\r\n",
        "import os\r\n",
        "from pathlib import Path\r\n",
        "import csv\r\n",
        "import pandas as pd\r\n",
        "import numpy as np\r\n",
        "import glob"
      ],
      "execution_count": 5,
      "outputs": []
    },
    {
      "cell_type": "markdown",
      "metadata": {
        "id": "FlH-PvCT9ljB"
      },
      "source": [
        "# pyAudioAnalysis testing"
      ]
    },
    {
      "cell_type": "code",
      "metadata": {
        "id": "y7CTLxXAyF2D",
        "colab": {
          "base_uri": "https://localhost:8080/"
        },
        "outputId": "97aa5249-c5d5-41e1-dd83-bc6ec002618e"
      },
      "source": [
        "os.chdir(AudioPath)\r\n",
        "#os.getcwd()\r\n",
        "myPath = os.getcwd()\r\n",
        "myPath += '/'\r\n",
        "entries = Path(myPath)\r\n",
        "name = []\r\n",
        "for index in entries.iterdir():\r\n",
        "  name.append(index.name)\r\n",
        "\r\n",
        "print(myPath + name[0])\r\n",
        "#for index in range(10):"
      ],
      "execution_count": null,
      "outputs": [
        {
          "output_type": "stream",
          "text": [
            "/content/drive/.shortcut-targets-by-id/126jnlxSnaFUj8e5oehxH8Mf5wrhQ3J_g/CSCE 5215/Spring 2021/Shortened Enki Audio Files/11DNH 3-9-18.wav\n"
          ],
          "name": "stdout"
        }
      ]
    },
    {
      "cell_type": "code",
      "metadata": {
        "id": "Pf1h8llvQmaQ"
      },
      "source": [
        "def display_plot(F, index, f_names):\r\n",
        "  plt.plot(F[index,:])\r\n",
        "  plt.xlabel('Frame no')\r\n",
        "  plt.ylabel(f_names[index]) \r\n",
        "  plt.show"
      ],
      "execution_count": null,
      "outputs": []
    },
    {
      "cell_type": "code",
      "metadata": {
        "id": "uUi_TIyo9nE9"
      },
      "source": [
        "index = 0\r\n",
        "[Fs, x] = audioBasicIO.read_audio_file(myPath + name[0])\r\n",
        "F, f_names = ShortTermFeatures.feature_extraction(x[:, 0], Fs, 0.050*Fs, 0.025*Fs)"
      ],
      "execution_count": null,
      "outputs": []
    },
    {
      "cell_type": "code",
      "metadata": {
        "id": "rldNI8EoH95P"
      },
      "source": [
        "for n in name:\r\n",
        "  print(n)"
      ],
      "execution_count": null,
      "outputs": []
    },
    {
      "cell_type": "code",
      "metadata": {
        "id": "uPC4ObNSR1Ng"
      },
      "source": [
        "tempdf = pd.DataFrame()\r\n",
        "ShortTermFeaturesList = []\r\n",
        "index = 0\r\n",
        "for n in name:\r\n",
        "  [Fs, x] = audioBasicIO.read_audio_file(myPath + n)\r\n",
        "  F, f_names = ShortTermFeatures.feature_extraction(x[:, 0], Fs, 0.050*Fs, 0.025*Fs)\r\n",
        "  tempdf['window'] = index\r\n",
        "  tempdf['energy'] = F[0]\r\n",
        "  ShortTermFeaturesList.append(tempdf)\r\n",
        "  tempdf = pd.DataFrame()\r\n",
        "  index += 1\r\n",
        "\r\n",
        "\r\n",
        "'''\r\n",
        "Tempdf = pd.DataFrame()\r\n",
        "FeatureList = []\r\n",
        "for index, file in enumerate(MTF):\r\n",
        "  Tempdf['name'] = MidFN\r\n",
        "  Tempdf['#'] = MTF[index]\r\n",
        "  FeatureList.append(Tempdf)\r\n",
        "  Tempdf = pd.DataFrame()\r\n",
        "'''"
      ],
      "execution_count": null,
      "outputs": []
    },
    {
      "cell_type": "code",
      "metadata": {
        "id": "Ii2regwnSBUZ"
      },
      "source": [
        "sum = 0\r\n",
        "for data in F[0]:\r\n",
        "  sum += data\r\n",
        "data = data / len(x)\r\n",
        "print(data)"
      ],
      "execution_count": null,
      "outputs": []
    },
    {
      "cell_type": "code",
      "metadata": {
        "id": "j25kkp94HyqA"
      },
      "source": [
        "pd.options.display.max_rows = 500\r\n",
        "ShortTermFeaturesList[1]"
      ],
      "execution_count": null,
      "outputs": []
    },
    {
      "cell_type": "code",
      "metadata": {
        "id": "wb6qlhpat5j_"
      },
      "source": [
        "display_plot(F, 0, f_names)"
      ],
      "execution_count": null,
      "outputs": []
    },
    {
      "cell_type": "code",
      "metadata": {
        "id": "es1hm_uMjk0x"
      },
      "source": [
        "display_plot(F, 1, f_names)"
      ],
      "execution_count": null,
      "outputs": []
    },
    {
      "cell_type": "code",
      "metadata": {
        "id": "A7LHhrYotmwq"
      },
      "source": [
        "display_plot(F, 2, f_names)"
      ],
      "execution_count": null,
      "outputs": []
    },
    {
      "cell_type": "code",
      "metadata": {
        "id": "k3WMHwQittzA"
      },
      "source": [
        "display_plot(F, 3, f_names)"
      ],
      "execution_count": null,
      "outputs": []
    },
    {
      "cell_type": "code",
      "metadata": {
        "id": "Zp2IkRJ0t0DH"
      },
      "source": [
        "display_plot(F, 4, f_names)"
      ],
      "execution_count": null,
      "outputs": []
    },
    {
      "cell_type": "code",
      "metadata": {
        "id": "pXJwvPz0t2eH"
      },
      "source": [
        "display_plot(F, 5, f_names)"
      ],
      "execution_count": null,
      "outputs": []
    },
    {
      "cell_type": "code",
      "metadata": {
        "id": "wAgTBtKp1suD"
      },
      "source": [
        "display_plot(F, 6, f_names)"
      ],
      "execution_count": null,
      "outputs": []
    },
    {
      "cell_type": "code",
      "metadata": {
        "id": "kkrug8uu10CL"
      },
      "source": [
        "display_plot(F, 7, f_names)"
      ],
      "execution_count": null,
      "outputs": []
    },
    {
      "cell_type": "code",
      "metadata": {
        "id": "mS7uHlKj12Jn"
      },
      "source": [
        "display_plot(F, 8, f_names)"
      ],
      "execution_count": null,
      "outputs": []
    },
    {
      "cell_type": "code",
      "metadata": {
        "id": "MzerohPl15tg"
      },
      "source": [
        "display_plot(F, 9, f_names)"
      ],
      "execution_count": null,
      "outputs": []
    },
    {
      "cell_type": "code",
      "metadata": {
        "id": "M8V2vJeL4O2c"
      },
      "source": [
        "display_plot(F, 10, f_names)"
      ],
      "execution_count": null,
      "outputs": []
    },
    {
      "cell_type": "markdown",
      "metadata": {
        "id": "q2mQO6Tq99m2"
      },
      "source": [
        "# Feature Extraction\r\n"
      ]
    },
    {
      "cell_type": "code",
      "metadata": {
        "id": "mQKg7si6GOjK"
      },
      "source": [
        "MTF, List, MidFN = pAA.MidTermFeatures.directory_feature_extraction(TestPath, 1.0, 1.0, 0.5, 0.5)"
      ],
      "execution_count": null,
      "outputs": []
    },
    {
      "cell_type": "code",
      "metadata": {
        "id": "IzIyWZo9qWNG"
      },
      "source": [
        "MTF[0]\r\n",
        "#len(MTF[0])"
      ],
      "execution_count": null,
      "outputs": []
    },
    {
      "cell_type": "markdown",
      "metadata": {
        "id": "MaJxLBeEZYC5"
      },
      "source": [
        "# Actual Feature Extraction Cells\r\n"
      ]
    },
    {
      "cell_type": "code",
      "metadata": {
        "id": "NRwPMYk01XFZ"
      },
      "source": [
        "os.chdir('/content/drive/MyDrive/CSCE 5215/Spring 2021/Shortened Enki Audio Files (1)')\r\n",
        "#os.getcwd()\r\n",
        "myPath = os.getcwd()\r\n",
        "myPath += '/'\r\n",
        "entries = Path(myPath)\r\n",
        "name = []\r\n",
        "for index in entries.iterdir():\r\n",
        "  name.append(index.name)\r\n",
        "\r\n",
        "print(myPath + name[0])\r\n",
        "print(len(name))\r\n"
      ],
      "execution_count": null,
      "outputs": []
    },
    {
      "cell_type": "code",
      "metadata": {
        "id": "7ZUdi-qr2PxN"
      },
      "source": [
        "MTF, List, MidFN = pAA.MidTermFeatures.directory_feature_extraction('/content/drive/MyDrive/CSCE 5215/Spring 2021/Shortened Enki Audio Files (1)', 1.0, 1.0, 0.5, 0.5)"
      ],
      "execution_count": null,
      "outputs": []
    },
    {
      "cell_type": "code",
      "metadata": {
        "id": "eFtVeohASM-g"
      },
      "source": [
        "Tempdf = pd.DataFrame()\r\n",
        "FeatureList = []\r\n",
        "templist = []\r\n",
        "for index, file in enumerate(MTF):\r\n",
        "  MTFlist = MTF[index].tolist()\r\n",
        "  MTFlist.insert(0, name[index])\r\n",
        "  FeatureList.append(MTFlist)"
      ],
      "execution_count": null,
      "outputs": []
    },
    {
      "cell_type": "code",
      "metadata": {
        "id": "bqMW5SGsSsbK"
      },
      "source": [
        "for i in range(len(FeatureList)):\r\n",
        "  FeatureList[i] = FeatureList[i][: len(FeatureList[i]) - 2]"
      ],
      "execution_count": null,
      "outputs": []
    },
    {
      "cell_type": "code",
      "metadata": {
        "id": "omn6y8XHKHWB"
      },
      "source": [
        "FeatureList[4]"
      ],
      "execution_count": null,
      "outputs": []
    },
    {
      "cell_type": "code",
      "metadata": {
        "id": "vZfGyY5AaVHH"
      },
      "source": [
        "with open('/content/drive/MyDrive/CSCE 5215/Spring 2021/ProjectDat.csv', 'r', newline='') as cfile:\r\n",
        "  fin = csv.reader(cfile, delimiter=',', quotechar='|', quoting=csv.QUOTE_MINIMAL)\r\n",
        "  for row in fin:\r\n",
        "    Names = row\r\n",
        "    break"
      ],
      "execution_count": null,
      "outputs": []
    },
    {
      "cell_type": "code",
      "metadata": {
        "id": "FYmlm6SxabYJ"
      },
      "source": [
        "Names"
      ],
      "execution_count": null,
      "outputs": []
    },
    {
      "cell_type": "code",
      "metadata": {
        "id": "hZl8TUQh2Qyb"
      },
      "source": [
        "with open('/content/drive/MyDrive/CSCE 5215/Spring 2021/ProjectDat.csv', 'w', newline='') as cfile:\r\n",
        "  fout = csv.writer(cfile, delimiter=',', quotechar='|', quoting=csv.QUOTE_MINIMAL)\r\n",
        "  fout.writerow(Names)\r\n",
        "  fout.writerows(FeatureList)"
      ],
      "execution_count": null,
      "outputs": []
    },
    {
      "cell_type": "code",
      "metadata": {
        "id": "NpQvuUMMkEiD"
      },
      "source": [
        ""
      ],
      "execution_count": null,
      "outputs": []
    },
    {
      "cell_type": "markdown",
      "metadata": {
        "id": "DCyYSbugkp7O"
      },
      "source": [
        "# Load CSV into pd dataframe"
      ]
    },
    {
      "cell_type": "code",
      "metadata": {
        "id": "j6E-ndUckv76"
      },
      "source": [
        "DATA = pd.read_csv('/content/drive/MyDrive/CSCE 5215/Spring 2021/ProjectDat.csv')"
      ],
      "execution_count": 6,
      "outputs": []
    },
    {
      "cell_type": "code",
      "metadata": {
        "id": "I0RUfqAClBqR"
      },
      "source": [
        "pd.options.display.max_rows = 15\r\n",
        "pd.options.display.max_columns = 14\r\n",
        "DATA"
      ],
      "execution_count": null,
      "outputs": []
    },
    {
      "cell_type": "code",
      "metadata": {
        "id": "GFVGunhAmw4b",
        "outputId": "3a6b0421-d381-4af8-abc9-aef3cd42302c",
        "colab": {
          "base_uri": "https://localhost:8080/",
          "height": 572
        }
      },
      "source": [
        "DATA = DATA.sort_values('file_name')\r\n",
        "DATA"
      ],
      "execution_count": 44,
      "outputs": [
        {
          "output_type": "execute_result",
          "data": {
            "text/html": [
              "<div>\n",
              "<style scoped>\n",
              "    .dataframe tbody tr th:only-of-type {\n",
              "        vertical-align: middle;\n",
              "    }\n",
              "\n",
              "    .dataframe tbody tr th {\n",
              "        vertical-align: top;\n",
              "    }\n",
              "\n",
              "    .dataframe thead th {\n",
              "        text-align: right;\n",
              "    }\n",
              "</style>\n",
              "<table border=\"1\" class=\"dataframe\">\n",
              "  <thead>\n",
              "    <tr style=\"text-align: right;\">\n",
              "      <th></th>\n",
              "      <th>file_name</th>\n",
              "      <th>zcr_mean</th>\n",
              "      <th>energy_mean</th>\n",
              "      <th>energy_entropy_mean</th>\n",
              "      <th>spectral_centroid_mean</th>\n",
              "      <th>spectral_spread_mean</th>\n",
              "      <th>spectral_entropy_mean</th>\n",
              "      <th>...</th>\n",
              "      <th>variance of time between words</th>\n",
              "      <th>variance of time to say each word</th>\n",
              "      <th>duration of silence</th>\n",
              "      <th># of silence &gt; 1.0s</th>\n",
              "      <th>avg of each long pause</th>\n",
              "      <th>std of pause length</th>\n",
              "      <th>std of pause length.1</th>\n",
              "    </tr>\n",
              "  </thead>\n",
              "  <tbody>\n",
              "    <tr>\n",
              "      <th>10</th>\n",
              "      <td>10AMR 3-9-18.wav</td>\n",
              "      <td>0.048734</td>\n",
              "      <td>0.003327</td>\n",
              "      <td>2.587193</td>\n",
              "      <td>0.070414</td>\n",
              "      <td>0.095986</td>\n",
              "      <td>0.283768</td>\n",
              "      <td>...</td>\n",
              "      <td>NaN</td>\n",
              "      <td>NaN</td>\n",
              "      <td>NaN</td>\n",
              "      <td>NaN</td>\n",
              "      <td>NaN</td>\n",
              "      <td>NaN</td>\n",
              "      <td>NaN</td>\n",
              "    </tr>\n",
              "    <tr>\n",
              "      <th>5</th>\n",
              "      <td>11DNH 3-9-18.wav</td>\n",
              "      <td>0.050572</td>\n",
              "      <td>0.001254</td>\n",
              "      <td>2.505849</td>\n",
              "      <td>0.084151</td>\n",
              "      <td>0.100467</td>\n",
              "      <td>0.320954</td>\n",
              "      <td>...</td>\n",
              "      <td>NaN</td>\n",
              "      <td>NaN</td>\n",
              "      <td>NaN</td>\n",
              "      <td>NaN</td>\n",
              "      <td>NaN</td>\n",
              "      <td>NaN</td>\n",
              "      <td>NaN</td>\n",
              "    </tr>\n",
              "    <tr>\n",
              "      <th>82</th>\n",
              "      <td>121CAS 4-23-18_Edited.mp3</td>\n",
              "      <td>0.042725</td>\n",
              "      <td>0.002215</td>\n",
              "      <td>2.468088</td>\n",
              "      <td>0.078478</td>\n",
              "      <td>0.104385</td>\n",
              "      <td>0.219814</td>\n",
              "      <td>...</td>\n",
              "      <td>NaN</td>\n",
              "      <td>NaN</td>\n",
              "      <td>NaN</td>\n",
              "      <td>NaN</td>\n",
              "      <td>NaN</td>\n",
              "      <td>NaN</td>\n",
              "      <td>NaN</td>\n",
              "    </tr>\n",
              "    <tr>\n",
              "      <th>71</th>\n",
              "      <td>122ADD 4-23-18_Edited.mp3</td>\n",
              "      <td>0.049528</td>\n",
              "      <td>0.005136</td>\n",
              "      <td>2.568950</td>\n",
              "      <td>0.083787</td>\n",
              "      <td>0.109755</td>\n",
              "      <td>0.282829</td>\n",
              "      <td>...</td>\n",
              "      <td>NaN</td>\n",
              "      <td>NaN</td>\n",
              "      <td>NaN</td>\n",
              "      <td>NaN</td>\n",
              "      <td>NaN</td>\n",
              "      <td>NaN</td>\n",
              "      <td>NaN</td>\n",
              "    </tr>\n",
              "    <tr>\n",
              "      <th>73</th>\n",
              "      <td>123BTB 4-23-18_Edited.mp3</td>\n",
              "      <td>0.048295</td>\n",
              "      <td>0.004173</td>\n",
              "      <td>2.494520</td>\n",
              "      <td>0.078696</td>\n",
              "      <td>0.096616</td>\n",
              "      <td>0.274466</td>\n",
              "      <td>...</td>\n",
              "      <td>NaN</td>\n",
              "      <td>NaN</td>\n",
              "      <td>NaN</td>\n",
              "      <td>NaN</td>\n",
              "      <td>NaN</td>\n",
              "      <td>NaN</td>\n",
              "      <td>NaN</td>\n",
              "    </tr>\n",
              "    <tr>\n",
              "      <th>...</th>\n",
              "      <td>...</td>\n",
              "      <td>...</td>\n",
              "      <td>...</td>\n",
              "      <td>...</td>\n",
              "      <td>...</td>\n",
              "      <td>...</td>\n",
              "      <td>...</td>\n",
              "      <td>...</td>\n",
              "      <td>...</td>\n",
              "      <td>...</td>\n",
              "      <td>...</td>\n",
              "      <td>...</td>\n",
              "      <td>...</td>\n",
              "      <td>...</td>\n",
              "      <td>...</td>\n",
              "    </tr>\n",
              "    <tr>\n",
              "      <th>53</th>\n",
              "      <td>92ADD 5-25-18_Edited.mp3</td>\n",
              "      <td>0.053776</td>\n",
              "      <td>0.017287</td>\n",
              "      <td>2.307370</td>\n",
              "      <td>0.081243</td>\n",
              "      <td>0.108422</td>\n",
              "      <td>0.253464</td>\n",
              "      <td>...</td>\n",
              "      <td>NaN</td>\n",
              "      <td>NaN</td>\n",
              "      <td>NaN</td>\n",
              "      <td>NaN</td>\n",
              "      <td>NaN</td>\n",
              "      <td>NaN</td>\n",
              "      <td>NaN</td>\n",
              "    </tr>\n",
              "    <tr>\n",
              "      <th>57</th>\n",
              "      <td>93CDD 5-25-18_Edited.mp3</td>\n",
              "      <td>0.047213</td>\n",
              "      <td>0.001820</td>\n",
              "      <td>2.577176</td>\n",
              "      <td>0.073373</td>\n",
              "      <td>0.099706</td>\n",
              "      <td>0.215287</td>\n",
              "      <td>...</td>\n",
              "      <td>NaN</td>\n",
              "      <td>NaN</td>\n",
              "      <td>NaN</td>\n",
              "      <td>NaN</td>\n",
              "      <td>NaN</td>\n",
              "      <td>NaN</td>\n",
              "      <td>NaN</td>\n",
              "    </tr>\n",
              "    <tr>\n",
              "      <th>67</th>\n",
              "      <td>94ADD 5-25-18_Edited.mp3</td>\n",
              "      <td>0.063826</td>\n",
              "      <td>0.003809</td>\n",
              "      <td>2.418328</td>\n",
              "      <td>0.092049</td>\n",
              "      <td>0.107993</td>\n",
              "      <td>0.355703</td>\n",
              "      <td>...</td>\n",
              "      <td>NaN</td>\n",
              "      <td>NaN</td>\n",
              "      <td>NaN</td>\n",
              "      <td>NaN</td>\n",
              "      <td>NaN</td>\n",
              "      <td>NaN</td>\n",
              "      <td>NaN</td>\n",
              "    </tr>\n",
              "    <tr>\n",
              "      <th>113</th>\n",
              "      <td>99BDD - 3-29-2018_Edited.mp3</td>\n",
              "      <td>0.049914</td>\n",
              "      <td>0.001625</td>\n",
              "      <td>2.497795</td>\n",
              "      <td>0.081536</td>\n",
              "      <td>0.098418</td>\n",
              "      <td>0.269487</td>\n",
              "      <td>...</td>\n",
              "      <td>NaN</td>\n",
              "      <td>NaN</td>\n",
              "      <td>NaN</td>\n",
              "      <td>NaN</td>\n",
              "      <td>NaN</td>\n",
              "      <td>NaN</td>\n",
              "      <td>NaN</td>\n",
              "    </tr>\n",
              "    <tr>\n",
              "      <th>0</th>\n",
              "      <td>9BJD 3-5-18.wav</td>\n",
              "      <td>0.054599</td>\n",
              "      <td>0.000550</td>\n",
              "      <td>2.472995</td>\n",
              "      <td>0.095962</td>\n",
              "      <td>0.131846</td>\n",
              "      <td>0.269435</td>\n",
              "      <td>...</td>\n",
              "      <td>NaN</td>\n",
              "      <td>NaN</td>\n",
              "      <td>NaN</td>\n",
              "      <td>NaN</td>\n",
              "      <td>NaN</td>\n",
              "      <td>NaN</td>\n",
              "      <td>NaN</td>\n",
              "    </tr>\n",
              "  </tbody>\n",
              "</table>\n",
              "<p>154 rows × 152 columns</p>\n",
              "</div>"
            ],
            "text/plain": [
              "                        file_name  zcr_mean  energy_mean  energy_entropy_mean  \\\n",
              "10               10AMR 3-9-18.wav  0.048734     0.003327             2.587193   \n",
              "5                11DNH 3-9-18.wav  0.050572     0.001254             2.505849   \n",
              "82      121CAS 4-23-18_Edited.mp3  0.042725     0.002215             2.468088   \n",
              "71      122ADD 4-23-18_Edited.mp3  0.049528     0.005136             2.568950   \n",
              "73      123BTB 4-23-18_Edited.mp3  0.048295     0.004173             2.494520   \n",
              "..                            ...       ...          ...                  ...   \n",
              "53       92ADD 5-25-18_Edited.mp3  0.053776     0.017287             2.307370   \n",
              "57       93CDD 5-25-18_Edited.mp3  0.047213     0.001820             2.577176   \n",
              "67       94ADD 5-25-18_Edited.mp3  0.063826     0.003809             2.418328   \n",
              "113  99BDD - 3-29-2018_Edited.mp3  0.049914     0.001625             2.497795   \n",
              "0                 9BJD 3-5-18.wav  0.054599     0.000550             2.472995   \n",
              "\n",
              "     spectral_centroid_mean  spectral_spread_mean  spectral_entropy_mean  ...  \\\n",
              "10                 0.070414              0.095986               0.283768  ...   \n",
              "5                  0.084151              0.100467               0.320954  ...   \n",
              "82                 0.078478              0.104385               0.219814  ...   \n",
              "71                 0.083787              0.109755               0.282829  ...   \n",
              "73                 0.078696              0.096616               0.274466  ...   \n",
              "..                      ...                   ...                    ...  ...   \n",
              "53                 0.081243              0.108422               0.253464  ...   \n",
              "57                 0.073373              0.099706               0.215287  ...   \n",
              "67                 0.092049              0.107993               0.355703  ...   \n",
              "113                0.081536              0.098418               0.269487  ...   \n",
              "0                  0.095962              0.131846               0.269435  ...   \n",
              "\n",
              "     variance of time between words  variance of time to say each word  \\\n",
              "10                              NaN                                NaN   \n",
              "5                               NaN                                NaN   \n",
              "82                              NaN                                NaN   \n",
              "71                              NaN                                NaN   \n",
              "73                              NaN                                NaN   \n",
              "..                              ...                                ...   \n",
              "53                              NaN                                NaN   \n",
              "57                              NaN                                NaN   \n",
              "67                              NaN                                NaN   \n",
              "113                             NaN                                NaN   \n",
              "0                               NaN                                NaN   \n",
              "\n",
              "     duration of silence  # of silence > 1.0s  avg of each long pause  \\\n",
              "10                   NaN                  NaN                     NaN   \n",
              "5                    NaN                  NaN                     NaN   \n",
              "82                   NaN                  NaN                     NaN   \n",
              "71                   NaN                  NaN                     NaN   \n",
              "73                   NaN                  NaN                     NaN   \n",
              "..                   ...                  ...                     ...   \n",
              "53                   NaN                  NaN                     NaN   \n",
              "57                   NaN                  NaN                     NaN   \n",
              "67                   NaN                  NaN                     NaN   \n",
              "113                  NaN                  NaN                     NaN   \n",
              "0                    NaN                  NaN                     NaN   \n",
              "\n",
              "     std of pause length  std of pause length.1  \n",
              "10                   NaN                    NaN  \n",
              "5                    NaN                    NaN  \n",
              "82                   NaN                    NaN  \n",
              "71                   NaN                    NaN  \n",
              "73                   NaN                    NaN  \n",
              "..                   ...                    ...  \n",
              "53                   NaN                    NaN  \n",
              "57                   NaN                    NaN  \n",
              "67                   NaN                    NaN  \n",
              "113                  NaN                    NaN  \n",
              "0                    NaN                    NaN  \n",
              "\n",
              "[154 rows x 152 columns]"
            ]
          },
          "metadata": {
            "tags": []
          },
          "execution_count": 44
        }
      ]
    },
    {
      "cell_type": "code",
      "metadata": {
        "id": "S6eZ6R2onk60"
      },
      "source": [
        "pred_path = '/content/drive/MyDrive/CSCE 5215/pred.csv'"
      ],
      "execution_count": 14,
      "outputs": []
    },
    {
      "cell_type": "code",
      "metadata": {
        "id": "hzMFxK0ao1gC"
      },
      "source": [
        "PAI_path = '/content/drive/MyDrive/CSCE 5215/Spring 2021/P_A_I.csv'"
      ],
      "execution_count": 36,
      "outputs": []
    },
    {
      "cell_type": "code",
      "metadata": {
        "id": "9vm7oERho7Ad"
      },
      "source": [
        "new_pred = pd.read_csv(PAI_path)"
      ],
      "execution_count": 37,
      "outputs": []
    },
    {
      "cell_type": "code",
      "metadata": {
        "id": "d7b4WqgAo_pg",
        "outputId": "781d5e59-0639-46c7-f6c0-8d92501d775e",
        "colab": {
          "base_uri": "https://localhost:8080/",
          "height": 917
        }
      },
      "source": [
        "new_pred"
      ],
      "execution_count": 38,
      "outputs": [
        {
          "output_type": "execute_result",
          "data": {
            "text/html": [
              "<div>\n",
              "<style scoped>\n",
              "    .dataframe tbody tr th:only-of-type {\n",
              "        vertical-align: middle;\n",
              "    }\n",
              "\n",
              "    .dataframe tbody tr th {\n",
              "        vertical-align: top;\n",
              "    }\n",
              "\n",
              "    .dataframe thead th {\n",
              "        text-align: right;\n",
              "    }\n",
              "</style>\n",
              "<table border=\"1\" class=\"dataframe\">\n",
              "  <thead>\n",
              "    <tr style=\"text-align: right;\">\n",
              "      <th></th>\n",
              "      <th>file_name</th>\n",
              "      <th>irina</th>\n",
              "      <th>ali</th>\n",
              "      <th>paris</th>\n",
              "      <th>final_verdict</th>\n",
              "    </tr>\n",
              "  </thead>\n",
              "  <tbody>\n",
              "    <tr>\n",
              "      <th>0</th>\n",
              "      <td>3BMR</td>\n",
              "      <td>1</td>\n",
              "      <td>0</td>\n",
              "      <td>1</td>\n",
              "      <td>1</td>\n",
              "    </tr>\n",
              "    <tr>\n",
              "      <th>1</th>\n",
              "      <td>7BJD</td>\n",
              "      <td>1</td>\n",
              "      <td>1</td>\n",
              "      <td>1</td>\n",
              "      <td>1</td>\n",
              "    </tr>\n",
              "    <tr>\n",
              "      <th>2</th>\n",
              "      <td>9BJD</td>\n",
              "      <td>1</td>\n",
              "      <td>0</td>\n",
              "      <td>0</td>\n",
              "      <td>0</td>\n",
              "    </tr>\n",
              "    <tr>\n",
              "      <th>3</th>\n",
              "      <td>22BMR</td>\n",
              "      <td>0</td>\n",
              "      <td>0</td>\n",
              "      <td>0</td>\n",
              "      <td>0</td>\n",
              "    </tr>\n",
              "    <tr>\n",
              "      <th>4</th>\n",
              "      <td>69BDD</td>\n",
              "      <td>0</td>\n",
              "      <td>0</td>\n",
              "      <td>1</td>\n",
              "      <td>0</td>\n",
              "    </tr>\n",
              "    <tr>\n",
              "      <th>5</th>\n",
              "      <td>70ADD</td>\n",
              "      <td>1</td>\n",
              "      <td>0</td>\n",
              "      <td>0</td>\n",
              "      <td>0</td>\n",
              "    </tr>\n",
              "    <tr>\n",
              "      <th>6</th>\n",
              "      <td>71DMR</td>\n",
              "      <td>0</td>\n",
              "      <td>1</td>\n",
              "      <td>1</td>\n",
              "      <td>1</td>\n",
              "    </tr>\n",
              "    <tr>\n",
              "      <th>7</th>\n",
              "      <td>72CMR</td>\n",
              "      <td>0</td>\n",
              "      <td>0</td>\n",
              "      <td>0</td>\n",
              "      <td>0</td>\n",
              "    </tr>\n",
              "    <tr>\n",
              "      <th>8</th>\n",
              "      <td>74DDD</td>\n",
              "      <td>0</td>\n",
              "      <td>0</td>\n",
              "      <td>0</td>\n",
              "      <td>0</td>\n",
              "    </tr>\n",
              "    <tr>\n",
              "      <th>9</th>\n",
              "      <td>78DJD</td>\n",
              "      <td>1</td>\n",
              "      <td>1</td>\n",
              "      <td>0</td>\n",
              "      <td>1</td>\n",
              "    </tr>\n",
              "    <tr>\n",
              "      <th>10</th>\n",
              "      <td>81AJD</td>\n",
              "      <td>0</td>\n",
              "      <td>0</td>\n",
              "      <td>0</td>\n",
              "      <td>0</td>\n",
              "    </tr>\n",
              "    <tr>\n",
              "      <th>11</th>\n",
              "      <td>83DMR</td>\n",
              "      <td>1</td>\n",
              "      <td>0</td>\n",
              "      <td>0</td>\n",
              "      <td>0</td>\n",
              "    </tr>\n",
              "    <tr>\n",
              "      <th>12</th>\n",
              "      <td>124DKC</td>\n",
              "      <td>0</td>\n",
              "      <td>1</td>\n",
              "      <td>1</td>\n",
              "      <td>1</td>\n",
              "    </tr>\n",
              "    <tr>\n",
              "      <th>13</th>\n",
              "      <td>128DLF</td>\n",
              "      <td>0</td>\n",
              "      <td>1</td>\n",
              "      <td>0</td>\n",
              "      <td>0</td>\n",
              "    </tr>\n",
              "    <tr>\n",
              "      <th>14</th>\n",
              "      <td>130BCQ</td>\n",
              "      <td>0</td>\n",
              "      <td>1</td>\n",
              "      <td>1</td>\n",
              "      <td>1</td>\n",
              "    </tr>\n",
              "    <tr>\n",
              "      <th>15</th>\n",
              "      <td>140DAO</td>\n",
              "      <td>1</td>\n",
              "      <td>1</td>\n",
              "      <td>1</td>\n",
              "      <td>1</td>\n",
              "    </tr>\n",
              "    <tr>\n",
              "      <th>16</th>\n",
              "      <td>146BLF</td>\n",
              "      <td>1</td>\n",
              "      <td>1</td>\n",
              "      <td>1</td>\n",
              "      <td>1</td>\n",
              "    </tr>\n",
              "    <tr>\n",
              "      <th>17</th>\n",
              "      <td>152DSE</td>\n",
              "      <td>1</td>\n",
              "      <td>1</td>\n",
              "      <td>1</td>\n",
              "      <td>1</td>\n",
              "    </tr>\n",
              "    <tr>\n",
              "      <th>18</th>\n",
              "      <td>153ASE</td>\n",
              "      <td>1</td>\n",
              "      <td>1</td>\n",
              "      <td>1</td>\n",
              "      <td>1</td>\n",
              "    </tr>\n",
              "    <tr>\n",
              "      <th>19</th>\n",
              "      <td>158CAO</td>\n",
              "      <td>1</td>\n",
              "      <td>1</td>\n",
              "      <td>0</td>\n",
              "      <td>1</td>\n",
              "    </tr>\n",
              "    <tr>\n",
              "      <th>20</th>\n",
              "      <td>165BLF</td>\n",
              "      <td>1</td>\n",
              "      <td>1</td>\n",
              "      <td>1</td>\n",
              "      <td>1</td>\n",
              "    </tr>\n",
              "    <tr>\n",
              "      <th>21</th>\n",
              "      <td>171CLF</td>\n",
              "      <td>1</td>\n",
              "      <td>1</td>\n",
              "      <td>1</td>\n",
              "      <td>1</td>\n",
              "    </tr>\n",
              "    <tr>\n",
              "      <th>22</th>\n",
              "      <td>177BJS</td>\n",
              "      <td>1</td>\n",
              "      <td>1</td>\n",
              "      <td>1</td>\n",
              "      <td>1</td>\n",
              "    </tr>\n",
              "    <tr>\n",
              "      <th>23</th>\n",
              "      <td>178CDJ</td>\n",
              "      <td>1</td>\n",
              "      <td>1</td>\n",
              "      <td>1</td>\n",
              "      <td>1</td>\n",
              "    </tr>\n",
              "    <tr>\n",
              "      <th>24</th>\n",
              "      <td>189BLF</td>\n",
              "      <td>1</td>\n",
              "      <td>0</td>\n",
              "      <td>0</td>\n",
              "      <td>0</td>\n",
              "    </tr>\n",
              "    <tr>\n",
              "      <th>25</th>\n",
              "      <td>194CCQ</td>\n",
              "      <td>0</td>\n",
              "      <td>1</td>\n",
              "      <td>0</td>\n",
              "      <td>0</td>\n",
              "    </tr>\n",
              "    <tr>\n",
              "      <th>26</th>\n",
              "      <td>195DCPQ</td>\n",
              "      <td>0</td>\n",
              "      <td>0</td>\n",
              "      <td>0</td>\n",
              "      <td>0</td>\n",
              "    </tr>\n",
              "    <tr>\n",
              "      <th>27</th>\n",
              "      <td>92ADD</td>\n",
              "      <td>1</td>\n",
              "      <td>0</td>\n",
              "      <td>1</td>\n",
              "      <td>1</td>\n",
              "    </tr>\n",
              "  </tbody>\n",
              "</table>\n",
              "</div>"
            ],
            "text/plain": [
              "   file_name  irina   ali  paris  final_verdict\n",
              "0       3BMR       1    0      1              1\n",
              "1       7BJD       1    1      1              1\n",
              "2       9BJD       1    0      0              0\n",
              "3      22BMR       0    0      0              0\n",
              "4      69BDD       0    0      1              0\n",
              "5      70ADD       1    0      0              0\n",
              "6      71DMR       0    1      1              1\n",
              "7      72CMR       0    0      0              0\n",
              "8      74DDD       0    0      0              0\n",
              "9      78DJD       1    1      0              1\n",
              "10     81AJD       0    0      0              0\n",
              "11     83DMR       1    0      0              0\n",
              "12    124DKC       0    1      1              1\n",
              "13    128DLF       0    1      0              0\n",
              "14    130BCQ       0    1      1              1\n",
              "15    140DAO       1    1      1              1\n",
              "16    146BLF       1    1      1              1\n",
              "17    152DSE       1    1      1              1\n",
              "18    153ASE       1    1      1              1\n",
              "19    158CAO       1    1      0              1\n",
              "20    165BLF       1    1      1              1\n",
              "21    171CLF       1    1      1              1\n",
              "22    177BJS       1    1      1              1\n",
              "23    178CDJ       1    1      1              1\n",
              "24    189BLF       1    0      0              0\n",
              "25    194CCQ       0    1      0              0\n",
              "26   195DCPQ       0    0      0              0\n",
              "27     92ADD       1    0      1              1"
            ]
          },
          "metadata": {
            "tags": []
          },
          "execution_count": 38
        }
      ]
    },
    {
      "cell_type": "code",
      "metadata": {
        "id": "_lPriCG7nspV"
      },
      "source": [
        "pred = pd.read_csv(pred_path)\r\n",
        "pred = pred.sort_values('Subject ID')\r\n",
        "e_c_pred = pred['e_label Λ c_label']"
      ],
      "execution_count": 20,
      "outputs": []
    },
    {
      "cell_type": "code",
      "metadata": {
        "id": "_NnTzwVjoQo-"
      },
      "source": [
        "e_c_pred"
      ],
      "execution_count": null,
      "outputs": []
    },
    {
      "cell_type": "markdown",
      "metadata": {
        "id": "V-dlOCw4Q5QV"
      },
      "source": [
        "# Testing Simple models"
      ]
    },
    {
      "cell_type": "code",
      "metadata": {
        "id": "pGJUf5d3Q93F"
      },
      "source": [
        ""
      ],
      "execution_count": null,
      "outputs": []
    },
    {
      "cell_type": "markdown",
      "metadata": {
        "id": "GJImYzXIah9o"
      },
      "source": [
        "# older work on extraction, keeping for keeps sake\r\n"
      ]
    },
    {
      "cell_type": "code",
      "metadata": {
        "id": "1dM2Jmb3OSp6"
      },
      "source": [
        "# so this is a problem because it is saying each file has the same \"features\"\r\n",
        "for index, sound in enumerate(MTF):\r\n",
        "  if index != 6:\r\n",
        "    if np.array_equal(MTF[index], MTF[index+1]):\r\n",
        "    #if MTF[index].all() == MTF[index+1].all():\r\n",
        "      print('OOF')\r\n",
        "    else:\r\n",
        "      print(MTF[index]-MTF[index+1])\r\n",
        "      print()"
      ],
      "execution_count": null,
      "outputs": []
    },
    {
      "cell_type": "code",
      "metadata": {
        "id": "T-gBsskbPEbY"
      },
      "source": [
        "# this is making sure the two lists are the same size, if they are not then it adds blank data to make them the same size\r\n",
        "for i in range(0,7):\r\n",
        "  if len(MTF[i]) > len(MidFN):\r\n",
        "    for _ in range(0, (len(MTF[i]) - len(MidFN))):\r\n",
        "      MidFN.append('Null')\r\n",
        "    len(MidFN)\r\n",
        "\r\n",
        "  elif len(MTF[i]) < len(MidFN):\r\n",
        "    for index, sound in enumerate(MTF):\r\n",
        "      for _ in range(0, (len(MidFN[i]) - len(MTF))):\r\n",
        "        sound[index].append(0)\r\n",
        "\r\n",
        "  len(MTF[0])"
      ],
      "execution_count": null,
      "outputs": []
    },
    {
      "cell_type": "code",
      "metadata": {
        "id": "ShKyvLyitQW0"
      },
      "source": [
        "for i in MTF:\r\n",
        "  print(len(i))\r\n"
      ],
      "execution_count": null,
      "outputs": []
    },
    {
      "cell_type": "code",
      "metadata": {
        "id": "QNB1BTVpP7C4"
      },
      "source": [
        "print('MTF: ',len(MTF[1]))\r\n",
        "print('MidFN ',len(MidFN))"
      ],
      "execution_count": null,
      "outputs": []
    },
    {
      "cell_type": "code",
      "metadata": {
        "id": "5ZAWyX6QU4cG"
      },
      "source": [
        "MTF, signal, List = pAA.MidTermFeatures.directory_feature_extraction_no_avg(TestPath, 1.0, 1.0, 0.5, 0.5)\r\n",
        "print('MTF: ',len(MTF))\r\n",
        "print('signal ',len(signal))\r\n",
        "no_avgdf = pd.DataFrame()\r\n",
        "no_avgdf['1'] = MTF\r\n",
        "no_avgdf['2'] = signal\r\n",
        "no_avgdf"
      ],
      "execution_count": null,
      "outputs": []
    },
    {
      "cell_type": "code",
      "metadata": {
        "id": "qwp6mvTi8jTM"
      },
      "source": [
        "signal"
      ],
      "execution_count": null,
      "outputs": []
    },
    {
      "cell_type": "code",
      "metadata": {
        "id": "wO4ntQORsKAv"
      },
      "source": [
        "MTF[2]"
      ],
      "execution_count": null,
      "outputs": []
    },
    {
      "cell_type": "markdown",
      "metadata": {
        "id": "IQoE9vIo-YfA"
      },
      "source": [
        "# Hidden Marcov Chain attempt"
      ]
    },
    {
      "cell_type": "code",
      "metadata": {
        "id": "bLBj_UaE86dk"
      },
      "source": [
        "#FROM AUDIOSEGMENTATION\r\n",
        "def train_hmm_from_directory(folder_path, hmm_model_name, mid_window, mid_step):\r\n",
        "    \"\"\"\r\n",
        "    This function trains a HMM model for segmentation-classification using\r\n",
        "    a where WAV files and .segment (ground-truth files) are stored\r\n",
        "    ARGUMENTS:\r\n",
        "     - folder_path:     the path of the data diretory\r\n",
        "     - hmm_model_name:  the name of the HMM model to be stored\r\n",
        "     - mt_win:          mid-term window size\r\n",
        "     - mt_step:         mid-term window step\r\n",
        "    RETURNS:\r\n",
        "     - hmm:            an object to the resulting HMM\r\n",
        "     - class_names:    a list of class_names\r\n",
        "\r\n",
        "    After training, hmm, class_names, along with the mt_win\r\n",
        "    and mt_step values are stored in the hmm_model_name file\r\n",
        "    \"\"\"\r\n",
        "    f_all = 0\r\n",
        "    flags_all = np.array([])\r\n",
        "    class_names_all = []\r\n",
        "    for i, f in enumerate(glob.glob(folder_path + os.sep + '*.wav')):\r\n",
        "        # for each WAV file\r\n",
        "        wav_file = f\r\n",
        "        gt_file = f.replace('.wav', '.segments')\r\n",
        "        if os.path.isfile(gt_file):\r\n",
        "            seg_start, seg_end, seg_labs = read_segmentation_gt(gt_file)\r\n",
        "            flags, class_names = \\\r\n",
        "                segments_to_labels(seg_start, seg_end, seg_labs, mid_step)\r\n",
        "            for c in class_names:\r\n",
        "                # update class names:\r\n",
        "                if c not in class_names_all:\r\n",
        "                    class_names_all.append(c)\r\n",
        "            sampling_rate, signal = audioBasicIO.read_audio_file(wav_file)\r\n",
        "            feature_vector, _, _ = \\\r\n",
        "                mtf.mid_feature_extraction(signal, sampling_rate,\r\n",
        "                                           mid_window * sampling_rate,\r\n",
        "                                           mid_step * sampling_rate,\r\n",
        "                                           round(sampling_rate * 0.050),\r\n",
        "                                           round(sampling_rate * 0.050))\r\n",
        "\r\n",
        "            flag_len = len(flags)\r\n",
        "            feat_cols = feature_vector.shape[1]\r\n",
        "            min_sm = min(feat_cols, flag_len)\r\n",
        "            feature_vector = feature_vector[:, 0:min_sm]\r\n",
        "            flags = flags[0:min_sm]\r\n",
        "\r\n",
        "            flags_new = []\r\n",
        "            # append features and labels\r\n",
        "            for j, fl in enumerate(flags):\r\n",
        "                flags_new.append(class_names_all.index(class_names_all[flags[j]]))\r\n",
        "\r\n",
        "            flags_all = np.append(flags_all, np.array(flags_new))\r\n",
        "\r\n",
        "            if i == 0:\r\n",
        "                f_all = feature_vector\r\n",
        "            else:\r\n",
        "                f_all = np.concatenate((f_all, feature_vector), axis=1)\r\n",
        "\r\n",
        "    # compute HMM statistics\r\n",
        "    class_priors, transmutation_matrix, means, cov = \\\r\n",
        "        train_hmm_compute_statistics(f_all, flags_all)\r\n",
        "    # train the HMM\r\n",
        "    hmm = hmmlearn.hmm.GaussianHMM(class_priors.shape[0], \"diag\")\r\n",
        "    hmm.covars_ = cov\r\n",
        "    hmm.means_ = means\r\n",
        "    hmm.startprob_ = class_priors\r\n",
        "    hmm.transmat_ = transmutation_matrix\r\n",
        "\r\n",
        "    save_hmm(hmm_model_name, hmm, class_names_all, mid_window, mid_step)\r\n",
        "\r\n",
        "    return hmm, class_names_all"
      ],
      "execution_count": null,
      "outputs": []
    },
    {
      "cell_type": "code",
      "metadata": {
        "id": "vC3OkG20--nq"
      },
      "source": [
        "#aS.train_hmm_from_directory\r\n",
        "train_hmm_from_directory(myPath, 'hmm1', 1.0, 1.0)\r\n",
        "aS.hmm_segmentation(myPath + name[0], 'hmm1', True, BasePath/Test.segments)"
      ],
      "execution_count": null,
      "outputs": []
    },
    {
      "cell_type": "markdown",
      "metadata": {
        "id": "HIh3GiqTXqJv"
      },
      "source": [
        "### **AUDIO DIARIZATION**"
      ]
    },
    {
      "cell_type": "code",
      "metadata": {
        "id": "Iej9tdh1S_on"
      },
      "source": [
        ""
      ],
      "execution_count": null,
      "outputs": []
    },
    {
      "cell_type": "markdown",
      "metadata": {
        "id": "Oae9uKsokNYe"
      },
      "source": [
        "# Audio & text Sync\r\n"
      ]
    },
    {
      "cell_type": "code",
      "metadata": {
        "id": "PpZmvp9fkT4Y"
      },
      "source": [
        ""
      ],
      "execution_count": null,
      "outputs": []
    },
    {
      "cell_type": "markdown",
      "metadata": {
        "id": "qxY5f9tOg4B1"
      },
      "source": [
        ""
      ]
    },
    {
      "cell_type": "code",
      "metadata": {
        "colab": {
          "base_uri": "https://localhost:8080/"
        },
        "id": "s4u063LAhHGy",
        "outputId": "41367f81-25b1-4c51-bfa2-20f2b0f42ea8"
      },
      "source": [
        "!pip install SpeechRecognition\r\n",
        "!pip install pydub"
      ],
      "execution_count": null,
      "outputs": [
        {
          "output_type": "stream",
          "text": [
            "Requirement already satisfied: SpeechRecognition in /usr/local/lib/python3.7/dist-packages (3.8.1)\n",
            "Requirement already satisfied: as in /usr/local/lib/python3.7/dist-packages (0.1)\n",
            "Requirement already satisfied: sr in /usr/local/lib/python3.7/dist-packages (0.1.0)\n",
            "Collecting pydub\n",
            "  Downloading https://files.pythonhosted.org/packages/7b/d1/fbfa79371a8cd9bb15c2e3c480d7e6e340ed5cc55005174e16f48418333a/pydub-0.24.1-py2.py3-none-any.whl\n",
            "Installing collected packages: pydub\n",
            "Successfully installed pydub-0.24.1\n"
          ],
          "name": "stdout"
        }
      ]
    },
    {
      "cell_type": "code",
      "metadata": {
        "colab": {
          "base_uri": "https://localhost:8080/",
          "height": 342
        },
        "id": "Plu78zNcg3up",
        "outputId": "d6ccb31c-d0ca-4634-8b54-e964c92b448b"
      },
      "source": [
        "\r\n",
        "import os\r\n",
        "from pydub import AudioSegment\r\n",
        "from pydub.silence import split_on_silence\r\n",
        "import speech_recognition as sr\r\n",
        "\r\n",
        "# create a speech recognition object\r\n",
        "r = sr.Recognizer()\r\n",
        "\r\n",
        "# a function that splits the audio file into chunks\r\n",
        "# and applies speech recognition\r\n",
        "path='/content/drive/MyDrive/CSCE 5215/Spring 2021/Shortened Enki Audio Files/1CCC 2-19-18.wav'\r\n",
        "\r\n",
        "\r\n",
        "\r\n",
        "def get_large_audio_transcription(path):\r\n",
        "    \"\"\"\r\n",
        "    Splitting the large audio file into chunks\r\n",
        "    and apply speech recognition on each of these chunks\r\n",
        "    \"\"\"\r\n",
        "    # open the audio file using pydub\r\n",
        "    sound = AudioSegment.from_wav(path)\r\n",
        "    # split audio sound where silence is 700 miliseconds or more and get chunks\r\n",
        "    chunks = split_on_silence(sound,\r\n",
        "        # experiment with this value for your target audio file\r\n",
        "        min_silence_len = 900,\r\n",
        "        # adjust this per requirement\r\n",
        "        silence_thresh = sound.dBFS - 14,\r\n",
        "        # keep the silence for 1 second, adjustable as well\r\n",
        "        keep_silence = 900,\r\n",
        ")\r\n",
        "    folder_name = \"audio-chunks\"\r\n",
        "    # create a directory to store the audio chunks\r\n",
        "    if not os.path.isdir(folder_name):\r\n",
        "        os.mkdir(folder_name)\r\n",
        "    whole_text = \"\"\r\n",
        "    # process each chunk\r\n",
        "    for i, audio_chunk in enumerate(chunks, start=1):\r\n",
        "        # export audio chunk and save it in\r\n",
        "        # the `folder_name` directory.\r\n",
        "        chunk_filename = os.path.join(folder_name, f\"chunk{i}.wav\")\r\n",
        "        audio_chunk.export(chunk_filename, format=\"wav\")\r\n",
        "        # recognize the chunk\r\n",
        "        with sr.AudioFile(chunk_filename) as source:\r\n",
        "            audio_listened = r.record(source)\r\n",
        "            # try converting it to text\r\n",
        "            try:\r\n",
        "                text = r.recognize_google(audio_listened)\r\n",
        "            except sr.UnknownValueError as e:\r\n",
        "                print(\"Error:\", str(e))\r\n",
        "            else:\r\n",
        "                text = f\"{text.capitalize()}. \"\r\n",
        "                print(chunk_filename, \":\", text)\r\n",
        "                whole_text += text\r\n",
        "    # return the text for all chunks detected\r\n",
        "    return whole_text\r\n",
        "\r\n",
        "get_large_audio_transcription(path)"
      ],
      "execution_count": null,
      "outputs": [
        {
          "output_type": "error",
          "ename": "FileNotFoundError",
          "evalue": "ignored",
          "traceback": [
            "\u001b[0;31m---------------------------------------------------------------------------\u001b[0m",
            "\u001b[0;31mFileNotFoundError\u001b[0m                         Traceback (most recent call last)",
            "\u001b[0;32m<ipython-input-14-a913be49f73a>\u001b[0m in \u001b[0;36m<module>\u001b[0;34m()\u001b[0m\n\u001b[1;32m     56\u001b[0m     \u001b[0;32mreturn\u001b[0m \u001b[0mwhole_text\u001b[0m\u001b[0;34m\u001b[0m\u001b[0;34m\u001b[0m\u001b[0m\n\u001b[1;32m     57\u001b[0m \u001b[0;34m\u001b[0m\u001b[0m\n\u001b[0;32m---> 58\u001b[0;31m \u001b[0mget_large_audio_transcription\u001b[0m\u001b[0;34m(\u001b[0m\u001b[0mpath\u001b[0m\u001b[0;34m)\u001b[0m\u001b[0;34m\u001b[0m\u001b[0;34m\u001b[0m\u001b[0m\n\u001b[0m",
            "\u001b[0;32m<ipython-input-14-a913be49f73a>\u001b[0m in \u001b[0;36mget_large_audio_transcription\u001b[0;34m(path)\u001b[0m\n\u001b[1;32m     20\u001b[0m     \"\"\"\n\u001b[1;32m     21\u001b[0m     \u001b[0;31m# open the audio file using pydub\u001b[0m\u001b[0;34m\u001b[0m\u001b[0;34m\u001b[0m\u001b[0;34m\u001b[0m\u001b[0m\n\u001b[0;32m---> 22\u001b[0;31m     \u001b[0msound\u001b[0m \u001b[0;34m=\u001b[0m \u001b[0mAudioSegment\u001b[0m\u001b[0;34m.\u001b[0m\u001b[0mfrom_wav\u001b[0m\u001b[0;34m(\u001b[0m\u001b[0mpath\u001b[0m\u001b[0;34m)\u001b[0m\u001b[0;34m\u001b[0m\u001b[0;34m\u001b[0m\u001b[0m\n\u001b[0m\u001b[1;32m     23\u001b[0m     \u001b[0;31m# split audio sound where silence is 700 miliseconds or more and get chunks\u001b[0m\u001b[0;34m\u001b[0m\u001b[0;34m\u001b[0m\u001b[0;34m\u001b[0m\u001b[0m\n\u001b[1;32m     24\u001b[0m     chunks = split_on_silence(sound,\n",
            "\u001b[0;32m/usr/local/lib/python3.7/dist-packages/pydub/audio_segment.py\u001b[0m in \u001b[0;36mfrom_wav\u001b[0;34m(cls, file, parameters)\u001b[0m\n\u001b[1;32m    748\u001b[0m     \u001b[0;34m@\u001b[0m\u001b[0mclassmethod\u001b[0m\u001b[0;34m\u001b[0m\u001b[0;34m\u001b[0m\u001b[0m\n\u001b[1;32m    749\u001b[0m     \u001b[0;32mdef\u001b[0m \u001b[0mfrom_wav\u001b[0m\u001b[0;34m(\u001b[0m\u001b[0mcls\u001b[0m\u001b[0;34m,\u001b[0m \u001b[0mfile\u001b[0m\u001b[0;34m,\u001b[0m \u001b[0mparameters\u001b[0m\u001b[0;34m=\u001b[0m\u001b[0;32mNone\u001b[0m\u001b[0;34m)\u001b[0m\u001b[0;34m:\u001b[0m\u001b[0;34m\u001b[0m\u001b[0;34m\u001b[0m\u001b[0m\n\u001b[0;32m--> 750\u001b[0;31m         \u001b[0;32mreturn\u001b[0m \u001b[0mcls\u001b[0m\u001b[0;34m.\u001b[0m\u001b[0mfrom_file\u001b[0m\u001b[0;34m(\u001b[0m\u001b[0mfile\u001b[0m\u001b[0;34m,\u001b[0m \u001b[0;34m'wav'\u001b[0m\u001b[0;34m,\u001b[0m \u001b[0mparameters\u001b[0m\u001b[0;34m=\u001b[0m\u001b[0mparameters\u001b[0m\u001b[0;34m)\u001b[0m\u001b[0;34m\u001b[0m\u001b[0;34m\u001b[0m\u001b[0m\n\u001b[0m\u001b[1;32m    751\u001b[0m \u001b[0;34m\u001b[0m\u001b[0m\n\u001b[1;32m    752\u001b[0m     \u001b[0;34m@\u001b[0m\u001b[0mclassmethod\u001b[0m\u001b[0;34m\u001b[0m\u001b[0;34m\u001b[0m\u001b[0m\n",
            "\u001b[0;32m/usr/local/lib/python3.7/dist-packages/pydub/audio_segment.py\u001b[0m in \u001b[0;36mfrom_file\u001b[0;34m(cls, file, format, codec, parameters, **kwargs)\u001b[0m\n\u001b[1;32m    620\u001b[0m         \u001b[0;32mexcept\u001b[0m \u001b[0mTypeError\u001b[0m\u001b[0;34m:\u001b[0m\u001b[0;34m\u001b[0m\u001b[0;34m\u001b[0m\u001b[0m\n\u001b[1;32m    621\u001b[0m             \u001b[0mfilename\u001b[0m \u001b[0;34m=\u001b[0m \u001b[0;32mNone\u001b[0m\u001b[0;34m\u001b[0m\u001b[0;34m\u001b[0m\u001b[0m\n\u001b[0;32m--> 622\u001b[0;31m         \u001b[0mfile\u001b[0m\u001b[0;34m,\u001b[0m \u001b[0mclose_file\u001b[0m \u001b[0;34m=\u001b[0m \u001b[0m_fd_or_path_or_tempfile\u001b[0m\u001b[0;34m(\u001b[0m\u001b[0mfile\u001b[0m\u001b[0;34m,\u001b[0m \u001b[0;34m'rb'\u001b[0m\u001b[0;34m,\u001b[0m \u001b[0mtempfile\u001b[0m\u001b[0;34m=\u001b[0m\u001b[0;32mFalse\u001b[0m\u001b[0;34m)\u001b[0m\u001b[0;34m\u001b[0m\u001b[0;34m\u001b[0m\u001b[0m\n\u001b[0m\u001b[1;32m    623\u001b[0m \u001b[0;34m\u001b[0m\u001b[0m\n\u001b[1;32m    624\u001b[0m         \u001b[0;32mif\u001b[0m \u001b[0mformat\u001b[0m\u001b[0;34m:\u001b[0m\u001b[0;34m\u001b[0m\u001b[0;34m\u001b[0m\u001b[0m\n",
            "\u001b[0;32m/usr/local/lib/python3.7/dist-packages/pydub/utils.py\u001b[0m in \u001b[0;36m_fd_or_path_or_tempfile\u001b[0;34m(fd, mode, tempfile)\u001b[0m\n\u001b[1;32m     58\u001b[0m \u001b[0;34m\u001b[0m\u001b[0m\n\u001b[1;32m     59\u001b[0m     \u001b[0;32mif\u001b[0m \u001b[0misinstance\u001b[0m\u001b[0;34m(\u001b[0m\u001b[0mfd\u001b[0m\u001b[0;34m,\u001b[0m \u001b[0mbasestring\u001b[0m\u001b[0;34m)\u001b[0m\u001b[0;34m:\u001b[0m\u001b[0;34m\u001b[0m\u001b[0;34m\u001b[0m\u001b[0m\n\u001b[0;32m---> 60\u001b[0;31m         \u001b[0mfd\u001b[0m \u001b[0;34m=\u001b[0m \u001b[0mopen\u001b[0m\u001b[0;34m(\u001b[0m\u001b[0mfd\u001b[0m\u001b[0;34m,\u001b[0m \u001b[0mmode\u001b[0m\u001b[0;34m=\u001b[0m\u001b[0mmode\u001b[0m\u001b[0;34m)\u001b[0m\u001b[0;34m\u001b[0m\u001b[0;34m\u001b[0m\u001b[0m\n\u001b[0m\u001b[1;32m     61\u001b[0m         \u001b[0mclose_fd\u001b[0m \u001b[0;34m=\u001b[0m \u001b[0;32mTrue\u001b[0m\u001b[0;34m\u001b[0m\u001b[0;34m\u001b[0m\u001b[0m\n\u001b[1;32m     62\u001b[0m \u001b[0;34m\u001b[0m\u001b[0m\n",
            "\u001b[0;31mFileNotFoundError\u001b[0m: [Errno 2] No such file or directory: '/content/drive/MyDrive/CSCE 5215/Spring 2021/Shortened Enki Audio Files/1CCC 2-19-18.wav'"
          ]
        }
      ]
    }
  ]
}